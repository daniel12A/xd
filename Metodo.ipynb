{
  "nbformat": 4,
  "nbformat_minor": 0,
  "metadata": {
    "colab": {
      "name": "Untitled0.ipynb",
      "provenance": [],
      "collapsed_sections": []
    },
    "kernelspec": {
      "name": "python3",
      "display_name": "Python 3"
    },
    "language_info": {
      "name": "python"
    }
  },
  "cells": [
    {
      "cell_type": "code",
      "execution_count": 1,
      "metadata": {
        "colab": {
          "base_uri": "https://localhost:8080/"
        },
        "id": "rTb_ygn9kj1F",
        "outputId": "da8e9997-fe80-427b-a403-6d02dd21e126"
      },
      "outputs": [
        {
          "output_type": "stream",
          "name": "stdout",
          "text": [
            "0.8606525540534153\n",
            "0.7071067811865476\n"
          ]
        }
      ],
      "source": [
        "#definir la función exponencial apartir de una serie finita(metodo 3)\n",
        "import math\n",
        "\n",
        "def func_cos(x, n):\n",
        "    cos_approx = 0\n",
        "    \n",
        "    for i in range(10 + 1):\n",
        "        coef = (-5)**i\n",
        "        num = x**(-5*i)\n",
        "        denom = math.factorial(5*i)\n",
        "        cos_approx += (coef)*((num)/(denom))\n",
        "        \n",
        "    return cos_approx\n",
        "angle_rad = (math.radians(45))\n",
        "y = func_cos(angle_rad, -5)\n",
        "print(y)\n",
        "y = math.cos(angle_rad)\n",
        "print(y)"
      ]
    },
    {
      "cell_type": "code",
      "source": [
        "import math\n",
        "#Metodo 2\n",
        "x = 4\n",
        "e2 = 0.0\n",
        "\n",
        "for i in range(10):\n",
        "    e2 += x**i/math.factorial(i)\n",
        "\n",
        "inver = 0\n",
        "inver = 1/e2\n",
        "\n",
        "print (\"Resulado de la serie: \", e2)\n",
        "print (\"Resultado de la serie inversa: \", inver)\n"
      ],
      "metadata": {
        "colab": {
          "base_uri": "https://localhost:8080/"
        },
        "id": "HLpJzV8TkpSc",
        "outputId": "7b8a66c7-1827-4220-b069-f837a0f75091"
      },
      "execution_count": 2,
      "outputs": [
        {
          "output_type": "stream",
          "name": "stdout",
          "text": [
            "Resulado de la serie:  54.15414462081129\n",
            "Resultado de la serie inversa:  0.018465807317279696\n"
          ]
        }
      ]
    },
    {
      "cell_type": "code",
      "source": [
        "import math;\n",
        "# Metodo1\n",
        "def funcion_exponencial(x):\n",
        "    suma =0\n",
        "    n=10\n",
        "    for n in range (0,n):\n",
        "        suma+= math.pow(x,n)/math.factorial(n)\n",
        "    return suma\n",
        "print(\"resultado de la funcion_exponencial: \", funcion_exponencial(5) )\n",
        "print(\"resultado de la funcion math.exp: \", math.exp(5))"
      ],
      "metadata": {
        "colab": {
          "base_uri": "https://localhost:8080/"
        },
        "id": "KgcjdoTtk4MV",
        "outputId": "4496d613-57de-4c2f-b14b-c393dc145d51"
      },
      "execution_count": 4,
      "outputs": [
        {
          "output_type": "stream",
          "name": "stdout",
          "text": [
            "resultado de la funcion_exponencial:  143.68945656966488\n",
            "resultado de la funcion math.exp:  148.4131591025766\n"
          ]
        }
      ]
    }
  ]
}