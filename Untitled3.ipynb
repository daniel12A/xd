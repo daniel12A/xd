{
 "cells": [
  {
   "cell_type": "code",
   "execution_count": 3,
   "id": "8a11c89b",
   "metadata": {},
   "outputs": [
    {
     "name": "stdout",
     "output_type": "stream",
     "text": [
      "Resulado de la serie:  54.15414462081129\n",
      "Resultado de la serie inversa:  0.018465807317279696\n"
     ]
    }
   ],
   "source": [
    "import math\n",
    "#Metodo 3\n",
    "x = 4\n",
    "e2 = 0.0\n",
    "\n",
    "for i in range(10):\n",
    "    e2 += x**i/math.factorial(i)\n",
    "\n",
    "inver = 0\n",
    "inver = 1/e2\n",
    "\n",
    "print (\"Resulado de la serie: \", e2)\n",
    "print (\"Resultado de la serie inversa: \", inver)\n",
    "\n",
    "    \n"
   ]
  },
  {
   "cell_type": "code",
   "execution_count": null,
   "id": "ad9914a8",
   "metadata": {},
   "outputs": [],
   "source": []
  }
 ],
 "metadata": {
  "kernelspec": {
   "display_name": "Python 3 (ipykernel)",
   "language": "python",
   "name": "python3"
  },
  "language_info": {
   "codemirror_mode": {
    "name": "ipython",
    "version": 3
   },
   "file_extension": ".py",
   "mimetype": "text/x-python",
   "name": "python",
   "nbconvert_exporter": "python",
   "pygments_lexer": "ipython3",
   "version": "3.9.10"
  }
 },
 "nbformat": 4,
 "nbformat_minor": 5
}
